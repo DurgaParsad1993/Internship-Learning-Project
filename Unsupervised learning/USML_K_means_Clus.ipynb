{
  "nbformat": 4,
  "nbformat_minor": 0,
  "metadata": {
    "colab": {
      "provenance": []
    },
    "kernelspec": {
      "name": "python3",
      "display_name": "Python 3"
    },
    "language_info": {
      "name": "python"
    }
  },
  "cells": [
    {
      "cell_type": "markdown",
      "source": [
        "**Import libraries**"
      ],
      "metadata": {
        "id": "_rLYbOq7Vpfa"
      }
    },
    {
      "cell_type": "code",
      "execution_count": 1,
      "metadata": {
        "id": "nUzesGjEfci3"
      },
      "outputs": [],
      "source": [
        "import pandas as pd"
      ]
    },
    {
      "cell_type": "code",
      "source": [
        "import numpy as np"
      ],
      "metadata": {
        "id": "q0iAKHEZtAEL"
      },
      "execution_count": 2,
      "outputs": []
    },
    {
      "cell_type": "code",
      "source": [
        "import matplotlib.pyplot as plt"
      ],
      "metadata": {
        "id": "4Os50M2dx5aL"
      },
      "execution_count": 3,
      "outputs": []
    },
    {
      "cell_type": "code",
      "source": [
        "import seaborn as sns"
      ],
      "metadata": {
        "id": "_roisScx6X2_"
      },
      "execution_count": null,
      "outputs": []
    },
    {
      "cell_type": "markdown",
      "source": [
        "**Read Dataset files**"
      ],
      "metadata": {
        "id": "t7JH-fNHWKt8"
      }
    },
    {
      "cell_type": "code",
      "source": [
        "cus_seg = pd.read_csv('https://github.com/YBI-Foundation/Dataset/raw/main/Customer%20Spending%20Score.csv')"
      ],
      "metadata": {
        "id": "hVGRAplBx_Zo"
      },
      "execution_count": 4,
      "outputs": []
    },
    {
      "cell_type": "code",
      "source": [
        "cus_seg.head()"
      ],
      "metadata": {
        "colab": {
          "base_uri": "https://localhost:8080/",
          "height": 206
        },
        "id": "Ea_AfULwyT18",
        "outputId": "6024953e-3aae-4825-8779-c5211eae279d"
      },
      "execution_count": 5,
      "outputs": [
        {
          "output_type": "execute_result",
          "data": {
            "text/plain": [
              "   Gender  Age  Annual Income (k$)  Spending Score (1-100)\n",
              "0    Male   19               15000                      39\n",
              "1    Male   21               15000                      81\n",
              "2  Female   20               16000                       6\n",
              "3  Female   23               16000                      77\n",
              "4  Female   31               17000                      40"
            ],
            "text/html": [
              "\n",
              "  <div id=\"df-d89d1d0a-efaa-45f0-9259-44bfa2a273e9\" class=\"colab-df-container\">\n",
              "    <div>\n",
              "<style scoped>\n",
              "    .dataframe tbody tr th:only-of-type {\n",
              "        vertical-align: middle;\n",
              "    }\n",
              "\n",
              "    .dataframe tbody tr th {\n",
              "        vertical-align: top;\n",
              "    }\n",
              "\n",
              "    .dataframe thead th {\n",
              "        text-align: right;\n",
              "    }\n",
              "</style>\n",
              "<table border=\"1\" class=\"dataframe\">\n",
              "  <thead>\n",
              "    <tr style=\"text-align: right;\">\n",
              "      <th></th>\n",
              "      <th>Gender</th>\n",
              "      <th>Age</th>\n",
              "      <th>Annual Income (k$)</th>\n",
              "      <th>Spending Score (1-100)</th>\n",
              "    </tr>\n",
              "  </thead>\n",
              "  <tbody>\n",
              "    <tr>\n",
              "      <th>0</th>\n",
              "      <td>Male</td>\n",
              "      <td>19</td>\n",
              "      <td>15000</td>\n",
              "      <td>39</td>\n",
              "    </tr>\n",
              "    <tr>\n",
              "      <th>1</th>\n",
              "      <td>Male</td>\n",
              "      <td>21</td>\n",
              "      <td>15000</td>\n",
              "      <td>81</td>\n",
              "    </tr>\n",
              "    <tr>\n",
              "      <th>2</th>\n",
              "      <td>Female</td>\n",
              "      <td>20</td>\n",
              "      <td>16000</td>\n",
              "      <td>6</td>\n",
              "    </tr>\n",
              "    <tr>\n",
              "      <th>3</th>\n",
              "      <td>Female</td>\n",
              "      <td>23</td>\n",
              "      <td>16000</td>\n",
              "      <td>77</td>\n",
              "    </tr>\n",
              "    <tr>\n",
              "      <th>4</th>\n",
              "      <td>Female</td>\n",
              "      <td>31</td>\n",
              "      <td>17000</td>\n",
              "      <td>40</td>\n",
              "    </tr>\n",
              "  </tbody>\n",
              "</table>\n",
              "</div>\n",
              "    <div class=\"colab-df-buttons\">\n",
              "\n",
              "  <div class=\"colab-df-container\">\n",
              "    <button class=\"colab-df-convert\" onclick=\"convertToInteractive('df-d89d1d0a-efaa-45f0-9259-44bfa2a273e9')\"\n",
              "            title=\"Convert this dataframe to an interactive table.\"\n",
              "            style=\"display:none;\">\n",
              "\n",
              "  <svg xmlns=\"http://www.w3.org/2000/svg\" height=\"24px\" viewBox=\"0 -960 960 960\">\n",
              "    <path d=\"M120-120v-720h720v720H120Zm60-500h600v-160H180v160Zm220 220h160v-160H400v160Zm0 220h160v-160H400v160ZM180-400h160v-160H180v160Zm440 0h160v-160H620v160ZM180-180h160v-160H180v160Zm440 0h160v-160H620v160Z\"/>\n",
              "  </svg>\n",
              "    </button>\n",
              "\n",
              "  <style>\n",
              "    .colab-df-container {\n",
              "      display:flex;\n",
              "      gap: 12px;\n",
              "    }\n",
              "\n",
              "    .colab-df-convert {\n",
              "      background-color: #E8F0FE;\n",
              "      border: none;\n",
              "      border-radius: 50%;\n",
              "      cursor: pointer;\n",
              "      display: none;\n",
              "      fill: #1967D2;\n",
              "      height: 32px;\n",
              "      padding: 0 0 0 0;\n",
              "      width: 32px;\n",
              "    }\n",
              "\n",
              "    .colab-df-convert:hover {\n",
              "      background-color: #E2EBFA;\n",
              "      box-shadow: 0px 1px 2px rgba(60, 64, 67, 0.3), 0px 1px 3px 1px rgba(60, 64, 67, 0.15);\n",
              "      fill: #174EA6;\n",
              "    }\n",
              "\n",
              "    .colab-df-buttons div {\n",
              "      margin-bottom: 4px;\n",
              "    }\n",
              "\n",
              "    [theme=dark] .colab-df-convert {\n",
              "      background-color: #3B4455;\n",
              "      fill: #D2E3FC;\n",
              "    }\n",
              "\n",
              "    [theme=dark] .colab-df-convert:hover {\n",
              "      background-color: #434B5C;\n",
              "      box-shadow: 0px 1px 3px 1px rgba(0, 0, 0, 0.15);\n",
              "      filter: drop-shadow(0px 1px 2px rgba(0, 0, 0, 0.3));\n",
              "      fill: #FFFFFF;\n",
              "    }\n",
              "  </style>\n",
              "\n",
              "    <script>\n",
              "      const buttonEl =\n",
              "        document.querySelector('#df-d89d1d0a-efaa-45f0-9259-44bfa2a273e9 button.colab-df-convert');\n",
              "      buttonEl.style.display =\n",
              "        google.colab.kernel.accessAllowed ? 'block' : 'none';\n",
              "\n",
              "      async function convertToInteractive(key) {\n",
              "        const element = document.querySelector('#df-d89d1d0a-efaa-45f0-9259-44bfa2a273e9');\n",
              "        const dataTable =\n",
              "          await google.colab.kernel.invokeFunction('convertToInteractive',\n",
              "                                                    [key], {});\n",
              "        if (!dataTable) return;\n",
              "\n",
              "        const docLinkHtml = 'Like what you see? Visit the ' +\n",
              "          '<a target=\"_blank\" href=https://colab.research.google.com/notebooks/data_table.ipynb>data table notebook</a>'\n",
              "          + ' to learn more about interactive tables.';\n",
              "        element.innerHTML = '';\n",
              "        dataTable['output_type'] = 'display_data';\n",
              "        await google.colab.output.renderOutput(dataTable, element);\n",
              "        const docLink = document.createElement('div');\n",
              "        docLink.innerHTML = docLinkHtml;\n",
              "        element.appendChild(docLink);\n",
              "      }\n",
              "    </script>\n",
              "  </div>\n",
              "\n",
              "\n",
              "<div id=\"df-ecf31508-4d94-4524-8086-c7375c2b821c\">\n",
              "  <button class=\"colab-df-quickchart\" onclick=\"quickchart('df-ecf31508-4d94-4524-8086-c7375c2b821c')\"\n",
              "            title=\"Suggest charts\"\n",
              "            style=\"display:none;\">\n",
              "\n",
              "<svg xmlns=\"http://www.w3.org/2000/svg\" height=\"24px\"viewBox=\"0 0 24 24\"\n",
              "     width=\"24px\">\n",
              "    <g>\n",
              "        <path d=\"M19 3H5c-1.1 0-2 .9-2 2v14c0 1.1.9 2 2 2h14c1.1 0 2-.9 2-2V5c0-1.1-.9-2-2-2zM9 17H7v-7h2v7zm4 0h-2V7h2v10zm4 0h-2v-4h2v4z\"/>\n",
              "    </g>\n",
              "</svg>\n",
              "  </button>\n",
              "\n",
              "<style>\n",
              "  .colab-df-quickchart {\n",
              "      --bg-color: #E8F0FE;\n",
              "      --fill-color: #1967D2;\n",
              "      --hover-bg-color: #E2EBFA;\n",
              "      --hover-fill-color: #174EA6;\n",
              "      --disabled-fill-color: #AAA;\n",
              "      --disabled-bg-color: #DDD;\n",
              "  }\n",
              "\n",
              "  [theme=dark] .colab-df-quickchart {\n",
              "      --bg-color: #3B4455;\n",
              "      --fill-color: #D2E3FC;\n",
              "      --hover-bg-color: #434B5C;\n",
              "      --hover-fill-color: #FFFFFF;\n",
              "      --disabled-bg-color: #3B4455;\n",
              "      --disabled-fill-color: #666;\n",
              "  }\n",
              "\n",
              "  .colab-df-quickchart {\n",
              "    background-color: var(--bg-color);\n",
              "    border: none;\n",
              "    border-radius: 50%;\n",
              "    cursor: pointer;\n",
              "    display: none;\n",
              "    fill: var(--fill-color);\n",
              "    height: 32px;\n",
              "    padding: 0;\n",
              "    width: 32px;\n",
              "  }\n",
              "\n",
              "  .colab-df-quickchart:hover {\n",
              "    background-color: var(--hover-bg-color);\n",
              "    box-shadow: 0 1px 2px rgba(60, 64, 67, 0.3), 0 1px 3px 1px rgba(60, 64, 67, 0.15);\n",
              "    fill: var(--button-hover-fill-color);\n",
              "  }\n",
              "\n",
              "  .colab-df-quickchart-complete:disabled,\n",
              "  .colab-df-quickchart-complete:disabled:hover {\n",
              "    background-color: var(--disabled-bg-color);\n",
              "    fill: var(--disabled-fill-color);\n",
              "    box-shadow: none;\n",
              "  }\n",
              "\n",
              "  .colab-df-spinner {\n",
              "    border: 2px solid var(--fill-color);\n",
              "    border-color: transparent;\n",
              "    border-bottom-color: var(--fill-color);\n",
              "    animation:\n",
              "      spin 1s steps(1) infinite;\n",
              "  }\n",
              "\n",
              "  @keyframes spin {\n",
              "    0% {\n",
              "      border-color: transparent;\n",
              "      border-bottom-color: var(--fill-color);\n",
              "      border-left-color: var(--fill-color);\n",
              "    }\n",
              "    20% {\n",
              "      border-color: transparent;\n",
              "      border-left-color: var(--fill-color);\n",
              "      border-top-color: var(--fill-color);\n",
              "    }\n",
              "    30% {\n",
              "      border-color: transparent;\n",
              "      border-left-color: var(--fill-color);\n",
              "      border-top-color: var(--fill-color);\n",
              "      border-right-color: var(--fill-color);\n",
              "    }\n",
              "    40% {\n",
              "      border-color: transparent;\n",
              "      border-right-color: var(--fill-color);\n",
              "      border-top-color: var(--fill-color);\n",
              "    }\n",
              "    60% {\n",
              "      border-color: transparent;\n",
              "      border-right-color: var(--fill-color);\n",
              "    }\n",
              "    80% {\n",
              "      border-color: transparent;\n",
              "      border-right-color: var(--fill-color);\n",
              "      border-bottom-color: var(--fill-color);\n",
              "    }\n",
              "    90% {\n",
              "      border-color: transparent;\n",
              "      border-bottom-color: var(--fill-color);\n",
              "    }\n",
              "  }\n",
              "</style>\n",
              "\n",
              "  <script>\n",
              "    async function quickchart(key) {\n",
              "      const quickchartButtonEl =\n",
              "        document.querySelector('#' + key + ' button');\n",
              "      quickchartButtonEl.disabled = true;  // To prevent multiple clicks.\n",
              "      quickchartButtonEl.classList.add('colab-df-spinner');\n",
              "      try {\n",
              "        const charts = await google.colab.kernel.invokeFunction(\n",
              "            'suggestCharts', [key], {});\n",
              "      } catch (error) {\n",
              "        console.error('Error during call to suggestCharts:', error);\n",
              "      }\n",
              "      quickchartButtonEl.classList.remove('colab-df-spinner');\n",
              "      quickchartButtonEl.classList.add('colab-df-quickchart-complete');\n",
              "    }\n",
              "    (() => {\n",
              "      let quickchartButtonEl =\n",
              "        document.querySelector('#df-ecf31508-4d94-4524-8086-c7375c2b821c button');\n",
              "      quickchartButtonEl.style.display =\n",
              "        google.colab.kernel.accessAllowed ? 'block' : 'none';\n",
              "    })();\n",
              "  </script>\n",
              "</div>\n",
              "\n",
              "    </div>\n",
              "  </div>\n"
            ],
            "application/vnd.google.colaboratory.intrinsic+json": {
              "type": "dataframe",
              "variable_name": "cus_seg",
              "summary": "{\n  \"name\": \"cus_seg\",\n  \"rows\": 200,\n  \"fields\": [\n    {\n      \"column\": \"Gender\",\n      \"properties\": {\n        \"dtype\": \"category\",\n        \"num_unique_values\": 2,\n        \"samples\": [\n          \"Female\",\n          \"Male\"\n        ],\n        \"semantic_type\": \"\",\n        \"description\": \"\"\n      }\n    },\n    {\n      \"column\": \"Age\",\n      \"properties\": {\n        \"dtype\": \"number\",\n        \"std\": 13,\n        \"min\": 18,\n        \"max\": 70,\n        \"num_unique_values\": 51,\n        \"samples\": [\n          55,\n          26\n        ],\n        \"semantic_type\": \"\",\n        \"description\": \"\"\n      }\n    },\n    {\n      \"column\": \"Annual Income (k$)\",\n      \"properties\": {\n        \"dtype\": \"number\",\n        \"std\": 26264,\n        \"min\": 15000,\n        \"max\": 137000,\n        \"num_unique_values\": 64,\n        \"samples\": [\n          87000,\n          101000\n        ],\n        \"semantic_type\": \"\",\n        \"description\": \"\"\n      }\n    },\n    {\n      \"column\": \"Spending Score (1-100)\",\n      \"properties\": {\n        \"dtype\": \"number\",\n        \"std\": 25,\n        \"min\": 1,\n        \"max\": 99,\n        \"num_unique_values\": 84,\n        \"samples\": [\n          83,\n          39\n        ],\n        \"semantic_type\": \"\",\n        \"description\": \"\"\n      }\n    }\n  ]\n}"
            }
          },
          "metadata": {},
          "execution_count": 5
        }
      ]
    },
    {
      "cell_type": "code",
      "source": [
        "cus_seg.info()"
      ],
      "metadata": {
        "colab": {
          "base_uri": "https://localhost:8080/"
        },
        "id": "3mU_BPDTyZi4",
        "outputId": "3edeca40-0411-4216-c3ab-a2bfba04f5d3"
      },
      "execution_count": 6,
      "outputs": [
        {
          "output_type": "stream",
          "name": "stdout",
          "text": [
            "<class 'pandas.core.frame.DataFrame'>\n",
            "RangeIndex: 200 entries, 0 to 199\n",
            "Data columns (total 4 columns):\n",
            " #   Column                  Non-Null Count  Dtype \n",
            "---  ------                  --------------  ----- \n",
            " 0   Gender                  200 non-null    object\n",
            " 1   Age                     200 non-null    int64 \n",
            " 2   Annual Income (k$)      200 non-null    int64 \n",
            " 3   Spending Score (1-100)  200 non-null    int64 \n",
            "dtypes: int64(3), object(1)\n",
            "memory usage: 6.4+ KB\n"
          ]
        }
      ]
    },
    {
      "cell_type": "code",
      "source": [
        "cus_seg.columns"
      ],
      "metadata": {
        "colab": {
          "base_uri": "https://localhost:8080/"
        },
        "id": "6ShZB9shyp6G",
        "outputId": "b7764a7d-33bc-458d-bd75-18c4711a9f12"
      },
      "execution_count": 7,
      "outputs": [
        {
          "output_type": "execute_result",
          "data": {
            "text/plain": [
              "Index(['Gender', 'Age', 'Annual Income (k$)', 'Spending Score (1-100)'], dtype='object')"
            ]
          },
          "metadata": {},
          "execution_count": 7
        }
      ]
    },
    {
      "cell_type": "code",
      "source": [
        "cus_seg.shape"
      ],
      "metadata": {
        "colab": {
          "base_uri": "https://localhost:8080/"
        },
        "id": "V_Y3UgqC7c7Z",
        "outputId": "83935bbe-5303-4307-95d1-927a46f4aff7"
      },
      "execution_count": 8,
      "outputs": [
        {
          "output_type": "execute_result",
          "data": {
            "text/plain": [
              "(200, 4)"
            ]
          },
          "metadata": {},
          "execution_count": 8
        }
      ]
    },
    {
      "cell_type": "markdown",
      "source": [
        "**Define X(target)**"
      ],
      "metadata": {
        "id": "Z3vBDYgTWh5a"
      }
    },
    {
      "cell_type": "code",
      "source": [
        "X = cus_seg[[ 'Annual Income (k$)', 'Spending Score (1-100)']]"
      ],
      "metadata": {
        "id": "n7aRZyr5y2JG"
      },
      "execution_count": 9,
      "outputs": []
    },
    {
      "cell_type": "code",
      "source": [
        "X.shape"
      ],
      "metadata": {
        "colab": {
          "base_uri": "https://localhost:8080/"
        },
        "id": "e9B6-EbJ70u1",
        "outputId": "d5c26ae8-2bcd-4893-885c-d40a58d91370"
      },
      "execution_count": 10,
      "outputs": [
        {
          "output_type": "execute_result",
          "data": {
            "text/plain": [
              "(200, 2)"
            ]
          },
          "metadata": {},
          "execution_count": 10
        }
      ]
    },
    {
      "cell_type": "code",
      "source": [
        "print(X)"
      ],
      "metadata": {
        "colab": {
          "base_uri": "https://localhost:8080/"
        },
        "id": "Mboh6REJ78Ha",
        "outputId": "acce2918-4278-4b63-9dc2-356a6b94d003"
      },
      "execution_count": 11,
      "outputs": [
        {
          "output_type": "stream",
          "name": "stdout",
          "text": [
            "     Annual Income (k$)  Spending Score (1-100)\n",
            "0                 15000                      39\n",
            "1                 15000                      81\n",
            "2                 16000                       6\n",
            "3                 16000                      77\n",
            "4                 17000                      40\n",
            "..                  ...                     ...\n",
            "195              120000                      79\n",
            "196              126000                      28\n",
            "197              126000                      74\n",
            "198              137000                      18\n",
            "199              137000                      83\n",
            "\n",
            "[200 rows x 2 columns]\n"
          ]
        }
      ]
    },
    {
      "cell_type": "markdown",
      "source": [
        "**Scaling define dataset**"
      ],
      "metadata": {
        "id": "HawMopnZW1tE"
      }
    },
    {
      "cell_type": "code",
      "source": [
        "from sklearn.preprocessing import StandardScaler\n",
        "ss = StandardScaler()\n",
        "X_scaled = ss.fit_transform(X)"
      ],
      "metadata": {
        "id": "KIH0y7qUD72I"
      },
      "execution_count": 12,
      "outputs": []
    },
    {
      "cell_type": "code",
      "source": [
        "print(X_scaled)"
      ],
      "metadata": {
        "colab": {
          "base_uri": "https://localhost:8080/"
        },
        "id": "7_6QUIosHaxH",
        "outputId": "bc4f39da-6cba-4207-c06c-bc88abd3678f"
      },
      "execution_count": null,
      "outputs": [
        {
          "output_type": "stream",
          "name": "stdout",
          "text": [
            "[[-1.73899919 -0.43480148]\n",
            " [-1.73899919  1.19570407]\n",
            " [-1.70082976 -1.71591298]\n",
            " [-1.70082976  1.04041783]\n",
            " [-1.66266033 -0.39597992]\n",
            " [-1.66266033  1.00159627]\n",
            " [-1.62449091 -1.71591298]\n",
            " [-1.62449091  1.70038436]\n",
            " [-1.58632148 -1.83237767]\n",
            " [-1.58632148  0.84631002]\n",
            " [-1.58632148 -1.4053405 ]\n",
            " [-1.58632148  1.89449216]\n",
            " [-1.54815205 -1.36651894]\n",
            " [-1.54815205  1.04041783]\n",
            " [-1.54815205 -1.44416206]\n",
            " [-1.54815205  1.11806095]\n",
            " [-1.50998262 -0.59008772]\n",
            " [-1.50998262  0.61338066]\n",
            " [-1.43364376 -0.82301709]\n",
            " [-1.43364376  1.8556706 ]\n",
            " [-1.39547433 -0.59008772]\n",
            " [-1.39547433  0.88513158]\n",
            " [-1.3573049  -1.75473454]\n",
            " [-1.3573049   0.88513158]\n",
            " [-1.24279661 -1.4053405 ]\n",
            " [-1.24279661  1.23452563]\n",
            " [-1.24279661 -0.7065524 ]\n",
            " [-1.24279661  0.41927286]\n",
            " [-1.20462718 -0.74537397]\n",
            " [-1.20462718  1.42863343]\n",
            " [-1.16645776 -1.7935561 ]\n",
            " [-1.16645776  0.88513158]\n",
            " [-1.05194947 -1.7935561 ]\n",
            " [-1.05194947  1.62274124]\n",
            " [-1.05194947 -1.4053405 ]\n",
            " [-1.05194947  1.19570407]\n",
            " [-1.01378004 -1.28887582]\n",
            " [-1.01378004  0.88513158]\n",
            " [-0.89927175 -0.93948177]\n",
            " [-0.89927175  0.96277471]\n",
            " [-0.86110232 -0.59008772]\n",
            " [-0.86110232  1.62274124]\n",
            " [-0.82293289 -0.55126616]\n",
            " [-0.82293289  0.41927286]\n",
            " [-0.82293289 -0.86183865]\n",
            " [-0.82293289  0.5745591 ]\n",
            " [-0.78476346  0.18634349]\n",
            " [-0.78476346 -0.12422899]\n",
            " [-0.78476346 -0.3183368 ]\n",
            " [-0.78476346 -0.3183368 ]\n",
            " [-0.70842461  0.06987881]\n",
            " [-0.70842461  0.38045129]\n",
            " [-0.67025518  0.14752193]\n",
            " [-0.67025518  0.38045129]\n",
            " [-0.67025518 -0.20187212]\n",
            " [-0.67025518 -0.35715836]\n",
            " [-0.63208575 -0.00776431]\n",
            " [-0.63208575 -0.16305055]\n",
            " [-0.55574689  0.03105725]\n",
            " [-0.55574689 -0.16305055]\n",
            " [-0.55574689  0.22516505]\n",
            " [-0.55574689  0.18634349]\n",
            " [-0.51757746  0.06987881]\n",
            " [-0.51757746  0.34162973]\n",
            " [-0.47940803  0.03105725]\n",
            " [-0.47940803  0.34162973]\n",
            " [-0.47940803 -0.00776431]\n",
            " [-0.47940803 -0.08540743]\n",
            " [-0.47940803  0.34162973]\n",
            " [-0.47940803 -0.12422899]\n",
            " [-0.4412386   0.18634349]\n",
            " [-0.4412386  -0.3183368 ]\n",
            " [-0.40306917 -0.04658587]\n",
            " [-0.40306917  0.22516505]\n",
            " [-0.25039146 -0.12422899]\n",
            " [-0.25039146  0.14752193]\n",
            " [-0.25039146  0.10870037]\n",
            " [-0.25039146 -0.08540743]\n",
            " [-0.25039146  0.06987881]\n",
            " [-0.25039146 -0.3183368 ]\n",
            " [-0.25039146  0.03105725]\n",
            " [-0.25039146  0.18634349]\n",
            " [-0.25039146 -0.35715836]\n",
            " [-0.25039146 -0.24069368]\n",
            " [-0.25039146  0.26398661]\n",
            " [-0.25039146 -0.16305055]\n",
            " [-0.13588317  0.30280817]\n",
            " [-0.13588317  0.18634349]\n",
            " [-0.09771374  0.38045129]\n",
            " [-0.09771374 -0.16305055]\n",
            " [-0.05954431  0.18634349]\n",
            " [-0.05954431 -0.35715836]\n",
            " [-0.02137488 -0.04658587]\n",
            " [-0.02137488 -0.39597992]\n",
            " [-0.02137488 -0.3183368 ]\n",
            " [-0.02137488  0.06987881]\n",
            " [-0.02137488 -0.12422899]\n",
            " [-0.02137488 -0.00776431]\n",
            " [ 0.01679455 -0.3183368 ]\n",
            " [ 0.01679455 -0.04658587]\n",
            " [ 0.05496398 -0.35715836]\n",
            " [ 0.05496398 -0.08540743]\n",
            " [ 0.05496398  0.34162973]\n",
            " [ 0.05496398  0.18634349]\n",
            " [ 0.05496398  0.22516505]\n",
            " [ 0.05496398 -0.3183368 ]\n",
            " [ 0.09313341 -0.00776431]\n",
            " [ 0.09313341 -0.16305055]\n",
            " [ 0.09313341 -0.27951524]\n",
            " [ 0.09313341 -0.08540743]\n",
            " [ 0.09313341  0.06987881]\n",
            " [ 0.09313341  0.14752193]\n",
            " [ 0.13130284 -0.3183368 ]\n",
            " [ 0.13130284 -0.16305055]\n",
            " [ 0.16947227 -0.08540743]\n",
            " [ 0.16947227 -0.00776431]\n",
            " [ 0.16947227 -0.27951524]\n",
            " [ 0.16947227  0.34162973]\n",
            " [ 0.24581112 -0.27951524]\n",
            " [ 0.24581112  0.26398661]\n",
            " [ 0.24581112  0.22516505]\n",
            " [ 0.24581112 -0.39597992]\n",
            " [ 0.32214998  0.30280817]\n",
            " [ 0.32214998  1.58391968]\n",
            " [ 0.36031941 -0.82301709]\n",
            " [ 0.36031941  1.04041783]\n",
            " [ 0.39848884 -0.59008772]\n",
            " [ 0.39848884  1.73920592]\n",
            " [ 0.39848884 -1.52180518]\n",
            " [ 0.39848884  0.96277471]\n",
            " [ 0.39848884 -1.5994483 ]\n",
            " [ 0.39848884  0.96277471]\n",
            " [ 0.43665827 -0.62890928]\n",
            " [ 0.43665827  0.80748846]\n",
            " [ 0.4748277  -1.75473454]\n",
            " [ 0.4748277   1.46745499]\n",
            " [ 0.4748277  -1.67709142]\n",
            " [ 0.4748277   0.88513158]\n",
            " [ 0.51299713 -1.56062674]\n",
            " [ 0.51299713  0.84631002]\n",
            " [ 0.55116656 -1.75473454]\n",
            " [ 0.55116656  1.6615628 ]\n",
            " [ 0.58933599 -0.39597992]\n",
            " [ 0.58933599  1.42863343]\n",
            " [ 0.62750542 -1.48298362]\n",
            " [ 0.62750542  1.81684904]\n",
            " [ 0.62750542 -0.55126616]\n",
            " [ 0.62750542  0.92395314]\n",
            " [ 0.66567484 -1.09476801]\n",
            " [ 0.66567484  1.54509812]\n",
            " [ 0.66567484 -1.28887582]\n",
            " [ 0.66567484  1.46745499]\n",
            " [ 0.66567484 -1.17241113]\n",
            " [ 0.66567484  1.00159627]\n",
            " [ 0.66567484 -1.32769738]\n",
            " [ 0.66567484  1.50627656]\n",
            " [ 0.66567484 -1.91002079]\n",
            " [ 0.66567484  1.07923939]\n",
            " [ 0.66567484 -1.91002079]\n",
            " [ 0.66567484  0.88513158]\n",
            " [ 0.70384427 -0.59008772]\n",
            " [ 0.70384427  1.27334719]\n",
            " [ 0.78018313 -1.75473454]\n",
            " [ 0.78018313  1.6615628 ]\n",
            " [ 0.93286085 -0.93948177]\n",
            " [ 0.93286085  0.96277471]\n",
            " [ 0.97103028 -1.17241113]\n",
            " [ 0.97103028  1.73920592]\n",
            " [ 1.00919971 -0.90066021]\n",
            " [ 1.00919971  0.49691598]\n",
            " [ 1.00919971 -1.44416206]\n",
            " [ 1.00919971  0.96277471]\n",
            " [ 1.00919971 -1.56062674]\n",
            " [ 1.00919971  1.62274124]\n",
            " [ 1.04736914 -1.44416206]\n",
            " [ 1.04736914  1.38981187]\n",
            " [ 1.04736914 -1.36651894]\n",
            " [ 1.04736914  0.72984534]\n",
            " [ 1.23821628 -1.4053405 ]\n",
            " [ 1.23821628  1.54509812]\n",
            " [ 1.390894   -0.7065524 ]\n",
            " [ 1.390894    1.38981187]\n",
            " [ 1.42906343 -1.36651894]\n",
            " [ 1.42906343  1.46745499]\n",
            " [ 1.46723286 -0.43480148]\n",
            " [ 1.46723286  1.81684904]\n",
            " [ 1.54357172 -1.01712489]\n",
            " [ 1.54357172  0.69102378]\n",
            " [ 1.61991057 -1.28887582]\n",
            " [ 1.61991057  1.35099031]\n",
            " [ 1.61991057 -1.05594645]\n",
            " [ 1.61991057  0.72984534]\n",
            " [ 2.00160487 -1.63826986]\n",
            " [ 2.00160487  1.58391968]\n",
            " [ 2.26879087 -1.32769738]\n",
            " [ 2.26879087  1.11806095]\n",
            " [ 2.49780745 -0.86183865]\n",
            " [ 2.49780745  0.92395314]\n",
            " [ 2.91767117 -1.25005425]\n",
            " [ 2.91767117  1.27334719]]\n"
          ]
        }
      ]
    },
    {
      "cell_type": "markdown",
      "source": [
        "**Choosing the number of Clusters**\n",
        "\n",
        "**WCSS-> Within Clusters Sum of Squares**"
      ],
      "metadata": {
        "id": "ShS92yfWXKJa"
      }
    },
    {
      "cell_type": "code",
      "source": [
        "from sklearn.cluster import KMeans"
      ],
      "metadata": {
        "id": "cYJzNyXszk2l"
      },
      "execution_count": 14,
      "outputs": []
    },
    {
      "cell_type": "code",
      "source": [
        "wcss = [ ]\n",
        "for i in range(1,11):\n",
        "  km =KMeans(n_clusters = i, init = 'k-means++', random_state = 2529)\n",
        "  km.fit(X_scaled)\n",
        "\n",
        "  wcss.append(km.inertia_)"
      ],
      "metadata": {
        "id": "Q5FfVdYg1X_s",
        "colab": {
          "base_uri": "https://localhost:8080/"
        },
        "outputId": "0cde53c6-1a49-4d58-afaf-77f36b90f7da"
      },
      "execution_count": 15,
      "outputs": [
        {
          "output_type": "stream",
          "name": "stderr",
          "text": [
            "/usr/local/lib/python3.10/dist-packages/sklearn/cluster/_kmeans.py:1416: FutureWarning: The default value of `n_init` will change from 10 to 'auto' in 1.4. Set the value of `n_init` explicitly to suppress the warning\n",
            "  super()._check_params_vs_input(X, default_n_init=10)\n",
            "/usr/local/lib/python3.10/dist-packages/sklearn/cluster/_kmeans.py:1416: FutureWarning: The default value of `n_init` will change from 10 to 'auto' in 1.4. Set the value of `n_init` explicitly to suppress the warning\n",
            "  super()._check_params_vs_input(X, default_n_init=10)\n",
            "/usr/local/lib/python3.10/dist-packages/sklearn/cluster/_kmeans.py:1416: FutureWarning: The default value of `n_init` will change from 10 to 'auto' in 1.4. Set the value of `n_init` explicitly to suppress the warning\n",
            "  super()._check_params_vs_input(X, default_n_init=10)\n",
            "/usr/local/lib/python3.10/dist-packages/sklearn/cluster/_kmeans.py:1416: FutureWarning: The default value of `n_init` will change from 10 to 'auto' in 1.4. Set the value of `n_init` explicitly to suppress the warning\n",
            "  super()._check_params_vs_input(X, default_n_init=10)\n",
            "/usr/local/lib/python3.10/dist-packages/sklearn/cluster/_kmeans.py:1416: FutureWarning: The default value of `n_init` will change from 10 to 'auto' in 1.4. Set the value of `n_init` explicitly to suppress the warning\n",
            "  super()._check_params_vs_input(X, default_n_init=10)\n",
            "/usr/local/lib/python3.10/dist-packages/sklearn/cluster/_kmeans.py:1416: FutureWarning: The default value of `n_init` will change from 10 to 'auto' in 1.4. Set the value of `n_init` explicitly to suppress the warning\n",
            "  super()._check_params_vs_input(X, default_n_init=10)\n",
            "/usr/local/lib/python3.10/dist-packages/sklearn/cluster/_kmeans.py:1416: FutureWarning: The default value of `n_init` will change from 10 to 'auto' in 1.4. Set the value of `n_init` explicitly to suppress the warning\n",
            "  super()._check_params_vs_input(X, default_n_init=10)\n",
            "/usr/local/lib/python3.10/dist-packages/sklearn/cluster/_kmeans.py:1416: FutureWarning: The default value of `n_init` will change from 10 to 'auto' in 1.4. Set the value of `n_init` explicitly to suppress the warning\n",
            "  super()._check_params_vs_input(X, default_n_init=10)\n",
            "/usr/local/lib/python3.10/dist-packages/sklearn/cluster/_kmeans.py:1416: FutureWarning: The default value of `n_init` will change from 10 to 'auto' in 1.4. Set the value of `n_init` explicitly to suppress the warning\n",
            "  super()._check_params_vs_input(X, default_n_init=10)\n",
            "/usr/local/lib/python3.10/dist-packages/sklearn/cluster/_kmeans.py:1416: FutureWarning: The default value of `n_init` will change from 10 to 'auto' in 1.4. Set the value of `n_init` explicitly to suppress the warning\n",
            "  super()._check_params_vs_input(X, default_n_init=10)\n"
          ]
        }
      ]
    },
    {
      "cell_type": "code",
      "source": [
        "wcss"
      ],
      "metadata": {
        "colab": {
          "base_uri": "https://localhost:8080/"
        },
        "id": "TcankCCjInkt",
        "outputId": "b2359001-d000-428c-8b31-ffe66be43c4b"
      },
      "execution_count": 16,
      "outputs": [
        {
          "output_type": "execute_result",
          "data": {
            "text/plain": [
              "[399.99999999999994,\n",
              " 269.01679374906655,\n",
              " 157.70400815035939,\n",
              " 108.92131661364358,\n",
              " 65.56840815571681,\n",
              " 55.057348270385965,\n",
              " 44.86475569922555,\n",
              " 37.182925370178474,\n",
              " 32.33081392367578,\n",
              " 29.897635726100987]"
            ]
          },
          "metadata": {},
          "execution_count": 16
        }
      ]
    },
    {
      "cell_type": "markdown",
      "source": [
        "**Plot an elbow graph**"
      ],
      "metadata": {
        "id": "A2uNpeX-Y6Ut"
      }
    },
    {
      "cell_type": "code",
      "source": [
        "sns.set()\n",
        "plt.plot(range(1,11), wcss)\n",
        "plt.title('The Elbow Point Graph')\n",
        "plt.xlabel('Number of Clusters')\n",
        "plt.ylabel('wcss')\n",
        "plt.show()"
      ],
      "metadata": {
        "colab": {
          "base_uri": "https://localhost:8080/",
          "height": 480
        },
        "id": "E9dpV3-u_6uc",
        "outputId": "faf9dcc6-e160-4368-ded8-c1f484a1e266"
      },
      "execution_count": null,
      "outputs": [
        {
          "output_type": "display_data",
          "data": {
            "text/plain": [
              "<Figure size 640x480 with 1 Axes>"
            ],
            "image/png": "[encoded data removed]"
          },
          "metadata": {}
        }
      ]
    },
    {
      "cell_type": "markdown",
      "source": [
        "**Optimum Number of Clusters = 5**"
      ],
      "metadata": {
        "id": "JtS-_ErZZYWL"
      }
    },
    {
      "cell_type": "markdown",
      "source": [
        "**Training the K-Means clustering Model**"
      ],
      "metadata": {
        "id": "QisrEtMpZ4jl"
      }
    },
    {
      "cell_type": "code",
      "source": [
        "km = KMeans(n_clusters = 5, init = 'k-means++', random_state = 2529)\n"
      ],
      "metadata": {
        "id": "fyzvQKak1p9v"
      },
      "execution_count": 17,
      "outputs": []
    },
    {
      "cell_type": "code",
      "source": [
        "y = km.fit_predict(X_scaled)"
      ],
      "metadata": {
        "id": "EpxIFOZ_287a",
        "colab": {
          "base_uri": "https://localhost:8080/"
        },
        "outputId": "20958a10-079d-4fd3-a7da-c1a29696ab19"
      },
      "execution_count": 19,
      "outputs": [
        {
          "output_type": "stream",
          "name": "stderr",
          "text": [
            "/usr/local/lib/python3.10/dist-packages/sklearn/cluster/_kmeans.py:1416: FutureWarning: The default value of `n_init` will change from 10 to 'auto' in 1.4. Set the value of `n_init` explicitly to suppress the warning\n",
            "  super()._check_params_vs_input(X, default_n_init=10)\n"
          ]
        }
      ]
    },
    {
      "cell_type": "code",
      "source": [
        "y"
      ],
      "metadata": {
        "colab": {
          "base_uri": "https://localhost:8080/"
        },
        "id": "1CyZsvsFFAY7",
        "outputId": "48f2cc38-e90e-4630-a742-5ee613054f12"
      },
      "execution_count": 20,
      "outputs": [
        {
          "output_type": "execute_result",
          "data": {
            "text/plain": [
              "array([0, 4, 0, 4, 0, 4, 0, 4, 0, 4, 0, 4, 0, 4, 0, 4, 0, 4, 0, 4, 0, 4,\n",
              "       0, 4, 0, 4, 0, 4, 0, 4, 0, 4, 0, 4, 0, 4, 0, 4, 0, 4, 0, 4, 0, 1,\n",
              "       0, 4, 1, 1, 1, 1, 1, 1, 1, 1, 1, 1, 1, 1, 1, 1, 1, 1, 1, 1, 1, 1,\n",
              "       1, 1, 1, 1, 1, 1, 1, 1, 1, 1, 1, 1, 1, 1, 1, 1, 1, 1, 1, 1, 1, 1,\n",
              "       1, 1, 1, 1, 1, 1, 1, 1, 1, 1, 1, 1, 1, 1, 1, 1, 1, 1, 1, 1, 1, 1,\n",
              "       1, 1, 1, 1, 1, 1, 1, 1, 1, 1, 1, 1, 1, 2, 3, 2, 1, 2, 3, 2, 3, 2,\n",
              "       1, 2, 3, 2, 3, 2, 3, 2, 3, 2, 1, 2, 3, 2, 3, 2, 3, 2, 3, 2, 3, 2,\n",
              "       3, 2, 3, 2, 3, 2, 3, 2, 3, 2, 3, 2, 3, 2, 3, 2, 3, 2, 3, 2, 3, 2,\n",
              "       3, 2, 3, 2, 3, 2, 3, 2, 3, 2, 3, 2, 3, 2, 3, 2, 3, 2, 3, 2, 3, 2,\n",
              "       3, 2], dtype=int32)"
            ]
          },
          "metadata": {},
          "execution_count": 20
        }
      ]
    },
    {
      "cell_type": "markdown",
      "source": [
        "**Visualizing all the Clusters**"
      ],
      "metadata": {
        "id": "WuX3NjhzaSJM"
      }
    },
    {
      "cell_type": "code",
      "source": [
        "# ploting all the Clusters and labels on them\n",
        "plt.figure(figsize=(8,8))\n",
        "plt.scatter(X_scaled[y==0,0],X_scaled[y==0,1],s=50, c='green', label='Cluster 1')\n",
        "plt.scatter(X_scaled[y==1,0],X_scaled[y==1,1],s=50, c='red', label='Cluster 2')\n",
        "plt.scatter(X_scaled[y==2,0],X_scaled[y==2,1],s=50, c='yellow', label='Cluster 3')\n",
        "plt.scatter(X_scaled[y==3,0],X_scaled[y==3,1],s=50, c='violet', label='Cluster 4')\n",
        "plt.scatter(X_scaled[y==4,0],X_scaled[y==4,1],s=50, c='blue', label='Cluster 5')\n",
        "\n",
        "# ploting Centroid to all Clusters\n",
        "plt.scatter(km.cluster_centers_[:,0],km.cluster_centers_[:,1], s=100 ,c= 'cyan', label='centroids')\n",
        "plt.title('Customers Groups')\n",
        "plt.xlabel('Annual income')\n",
        "plt.ylabel('Spending Score')\n",
        "plt.show()\n"
      ],
      "metadata": {
        "colab": {
          "base_uri": "https://localhost:8080/",
          "height": 718
        },
        "id": "vJJSowBPLz9u",
        "outputId": "5bf9d991-bce3-4701-f356-bf61b517f5b9"
      },
      "execution_count": 24,
      "outputs": [
        {
          "output_type": "display_data",
          "data": {
            "text/plain": [
              "<Figure size 800x800 with 1 Axes>"
            ],
            "image/png": "[encoded data removed]"
          },
          "metadata": {}
        }
      ]
    }
  ]
}